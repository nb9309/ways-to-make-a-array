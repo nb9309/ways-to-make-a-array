{
 "cells": [
  {
   "cell_type": "code",
   "execution_count": 1,
   "id": "a3d61349-130f-413e-bdb3-2489b0e59edb",
   "metadata": {},
   "outputs": [
    {
     "name": "stdout",
     "output_type": "stream",
     "text": [
      "[1. 1. 1.] <class 'numpy.ndarray'>\n",
      "dim of a =  1\n",
      "shape of a =  (3,)\n",
      "size of a =  3\n",
      "dtype of a =  float64\n"
     ]
    }
   ],
   "source": [
    "import numpy as np\n",
    "a = np.ones(3)\n",
    "print(a,type(a))\n",
    "print('dim of a = ',a.ndim)\n",
    "print('shape of a = ',a.shape)\n",
    "print('size of a = ',a.size)\n",
    "print('dtype of a = ',a.dtype)"
   ]
  },
  {
   "cell_type": "code",
   "execution_count": 2,
   "id": "040de52c-7893-4518-9de4-1992a2996d4b",
   "metadata": {},
   "outputs": [
    {
     "name": "stdout",
     "output_type": "stream",
     "text": [
      "[[1 1 1]\n",
      " [1 1 1]\n",
      " [1 1 1]] <class 'numpy.ndarray'>\n",
      "dim of a =  2\n",
      "shape of a =  (3, 3)\n",
      "size of a =  9\n",
      "dtype of a =  int32\n"
     ]
    }
   ],
   "source": [
    "b = np.ones((3,3),dtype = int)\n",
    "print(b,type(b))\n",
    "print('dim of a = ',b.ndim)\n",
    "print('shape of a = ',b.shape)\n",
    "print('size of a = ',b.size)\n",
    "print('dtype of a = ',b.dtype)"
   ]
  },
  {
   "cell_type": "code",
   "execution_count": 4,
   "id": "5632b7b9-8334-4c39-8249-6f404c3a1ee3",
   "metadata": {},
   "outputs": [
    {
     "name": "stdout",
     "output_type": "stream",
     "text": [
      "[[['1' '1' '1']\n",
      "  ['1' '1' '1']\n",
      "  ['1' '1' '1']]\n",
      "\n",
      " [['1' '1' '1']\n",
      "  ['1' '1' '1']\n",
      "  ['1' '1' '1']]] <class 'numpy.ndarray'>\n",
      "dim of a =  3\n",
      "shape of a =  (2, 3, 3)\n",
      "size of a =  18\n",
      "dtype of a =  <U1\n"
     ]
    }
   ],
   "source": [
    "c = np.ones((2,3,3),dtype = str)\n",
    "print(c,type(c))\n",
    "print('dim of a = ',c.ndim)\n",
    "print('shape of a = ',c.shape)\n",
    "print('size of a = ',c.size)\n",
    "print('dtype of a = ',c.dtype)"
   ]
  },
  {
   "cell_type": "code",
   "execution_count": null,
   "id": "c2cd741e-3845-456a-9595-4cf3b9459287",
   "metadata": {},
   "outputs": [],
   "source": []
  }
 ],
 "metadata": {
  "kernelspec": {
   "display_name": "Python 3 (ipykernel)",
   "language": "python",
   "name": "python3"
  },
  "language_info": {
   "codemirror_mode": {
    "name": "ipython",
    "version": 3
   },
   "file_extension": ".py",
   "mimetype": "text/x-python",
   "name": "python",
   "nbconvert_exporter": "python",
   "pygments_lexer": "ipython3",
   "version": "3.9.19"
  }
 },
 "nbformat": 4,
 "nbformat_minor": 5
}
