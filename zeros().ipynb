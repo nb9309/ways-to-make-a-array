{
 "cells": [
  {
   "cell_type": "code",
   "execution_count": 2,
   "id": "e57644aa-f499-41a3-91d0-fbf5a3f35274",
   "metadata": {},
   "outputs": [
    {
     "name": "stdout",
     "output_type": "stream",
     "text": [
      "[0. 0. 0.] <class 'numpy.ndarray'>\n",
      "dim of a =  1\n",
      "shape of a =  (3,)\n",
      "size of a =  3\n",
      "dtype of a =  float64\n"
     ]
    }
   ],
   "source": [
    "# a = numpy.zeros(shape,dtype)\n",
    "import numpy as np\n",
    "a = np.zeros(3)\n",
    "print(a,type(a))\n",
    "print('dim of a = ',a.ndim)\n",
    "print('shape of a = ',a.shape)\n",
    "print('size of a = ',a.size)\n",
    "print('dtype of a = ',a.dtype)"
   ]
  },
  {
   "cell_type": "code",
   "execution_count": 9,
   "id": "1b812644-53f2-492f-802d-b3f2263cc1fc",
   "metadata": {},
   "outputs": [
    {
     "name": "stdout",
     "output_type": "stream",
     "text": [
      "[[0 0]\n",
      " [0 0]] <class 'numpy.ndarray'>\n",
      "dim of a =  2\n",
      "shape of a =  (2, 2)\n",
      "size of a =  4\n",
      "dtype of a =  int32\n"
     ]
    }
   ],
   "source": [
    "b = np.zeros((2,2),dtype=int)\n",
    "print(b,type(b))\n",
    "print('dim of a = ',b.ndim)\n",
    "print('shape of a = ',b.shape)\n",
    "print('size of a = ',b.size)\n",
    "print('dtype of a = ',b.dtype)"
   ]
  },
  {
   "cell_type": "code",
   "execution_count": 7,
   "id": "1893a4a1-412d-466e-8d2c-081b66d1d8ee",
   "metadata": {},
   "outputs": [
    {
     "name": "stdout",
     "output_type": "stream",
     "text": [
      "[[[0 0 0]\n",
      "  [0 0 0]\n",
      "  [0 0 0]]\n",
      "\n",
      " [[0 0 0]\n",
      "  [0 0 0]\n",
      "  [0 0 0]]] <class 'numpy.ndarray'>\n",
      "dim of a =  3\n",
      "shape of a =  (2, 3, 3)\n",
      "size of a =  18\n",
      "dtype of a =  int32\n"
     ]
    }
   ],
   "source": [
    "c = np.zeros((2,3,3),int)\n",
    "print(c,type(c))\n",
    "print('dim of a = ',c.ndim)\n",
    "print('shape of a = ',c.shape)\n",
    "print('size of a = ',c.size)\n",
    "print('dtype of a = ',c.dtype)"
   ]
  },
  {
   "cell_type": "code",
   "execution_count": null,
   "id": "3529d146-c52f-4844-b4ed-cc96f0041d99",
   "metadata": {},
   "outputs": [],
   "source": []
  }
 ],
 "metadata": {
  "kernelspec": {
   "display_name": "Python 3 (ipykernel)",
   "language": "python",
   "name": "python3"
  },
  "language_info": {
   "codemirror_mode": {
    "name": "ipython",
    "version": 3
   },
   "file_extension": ".py",
   "mimetype": "text/x-python",
   "name": "python",
   "nbconvert_exporter": "python",
   "pygments_lexer": "ipython3",
   "version": "3.9.19"
  }
 },
 "nbformat": 4,
 "nbformat_minor": 5
}
