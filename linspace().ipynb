{
 "cells": [
  {
   "cell_type": "code",
   "execution_count": 5,
   "id": "15d5aacc-cd43-4428-8896-638e5a31d0ac",
   "metadata": {},
   "outputs": [
    {
     "name": "stdout",
     "output_type": "stream",
     "text": [
      "(array([ 1.        ,  2.26315789,  3.52631579,  4.78947368,  6.05263158,\n",
      "        7.31578947,  8.57894737,  9.84210526, 11.10526316, 12.36842105,\n",
      "       13.63157895, 14.89473684, 16.15789474, 17.42105263, 18.68421053,\n",
      "       19.94736842, 21.21052632, 22.47368421, 23.73684211, 25.        ]), 1.263157894736842) <class 'tuple'>\n"
     ]
    },
    {
     "ename": "AttributeError",
     "evalue": "'tuple' object has no attribute 'ndim'",
     "output_type": "error",
     "traceback": [
      "\u001b[1;31m---------------------------------------------------------------------------\u001b[0m",
      "\u001b[1;31mAttributeError\u001b[0m                            Traceback (most recent call last)",
      "Cell \u001b[1;32mIn[5], line 5\u001b[0m\n\u001b[0;32m      2\u001b[0m a \u001b[38;5;241m=\u001b[39m np\u001b[38;5;241m.\u001b[39mlinspace(\u001b[38;5;241m1\u001b[39m,\u001b[38;5;241m25\u001b[39m,num \u001b[38;5;241m=\u001b[39m \u001b[38;5;241m20\u001b[39m,endpoint\u001b[38;5;241m=\u001b[39m\u001b[38;5;28;01mTrue\u001b[39;00m,retstep\u001b[38;5;241m=\u001b[39m\u001b[38;5;28;01mTrue\u001b[39;00m,dtype\u001b[38;5;241m=\u001b[39m\u001b[38;5;28mfloat\u001b[39m)\n\u001b[0;32m      3\u001b[0m \u001b[38;5;28mprint\u001b[39m(a,\u001b[38;5;28mtype\u001b[39m(a))\n\u001b[1;32m----> 5\u001b[0m \u001b[38;5;28mprint\u001b[39m(\u001b[38;5;124m'\u001b[39m\u001b[38;5;124mdim of a = \u001b[39m\u001b[38;5;124m'\u001b[39m,\u001b[43ma\u001b[49m\u001b[38;5;241;43m.\u001b[39;49m\u001b[43mndim\u001b[49m)\n\u001b[0;32m      6\u001b[0m \u001b[38;5;28mprint\u001b[39m(\u001b[38;5;124m'\u001b[39m\u001b[38;5;124msize of a = \u001b[39m\u001b[38;5;124m'\u001b[39m,a\u001b[38;5;241m.\u001b[39msize)\n\u001b[0;32m      7\u001b[0m \u001b[38;5;28mprint\u001b[39m(\u001b[38;5;124m'\u001b[39m\u001b[38;5;124mshape of a = \u001b[39m\u001b[38;5;124m'\u001b[39m,a\u001b[38;5;241m.\u001b[39mshape)\n",
      "\u001b[1;31mAttributeError\u001b[0m: 'tuple' object has no attribute 'ndim'"
     ]
    }
   ],
   "source": [
    "import numpy as np\n",
    "a = np.linspace(1,20,num = 20,endpoint=True,retstep=True,dtype=float)\n",
    "print(a,type(a))\n",
    "print('dtype of a = ',a.dtype)\n",
    "print('dim of a = ',a.ndim)\n",
    "print('size of a = ',a.size)\n",
    "print('shape of a = ',a.shape)"
   ]
  },
  {
   "cell_type": "code",
   "execution_count": 7,
   "id": "99020895-af02-4cd6-ac45-be72e5c1670c",
   "metadata": {},
   "outputs": [
    {
     "name": "stdout",
     "output_type": "stream",
     "text": [
      "(array([1.        , 1.44444444, 1.88888889, 2.33333333, 2.77777778,\n",
      "       3.22222222, 3.66666667, 4.11111111, 4.55555556, 5.        ]), 0.4444444444444444)\n"
     ]
    }
   ],
   "source": [
    "b = np.linspace(start=1,stop=5,num=10,endpoint=True,retstep=True)\n",
    "print(b)"
   ]
  },
  {
   "cell_type": "code",
   "execution_count": 8,
   "id": "82fce8ab-6cfe-4e20-8109-8254e76a987f",
   "metadata": {},
   "outputs": [
    {
     "name": "stdout",
     "output_type": "stream",
     "text": [
      "[1.  1.4 1.8 2.2 2.6 3.  3.4 3.8 4.2 4.6] <class 'numpy.ndarray'>\n"
     ]
    }
   ],
   "source": [
    "c = np.linspace(1,5,num=10,endpoint=False,retstep=False)\n",
    "print(c,type(c))"
   ]
  },
  {
   "cell_type": "code",
   "execution_count": 15,
   "id": "d4ff9f97-5c62-47a7-9f7e-aceab3989b0f",
   "metadata": {},
   "outputs": [
    {
     "name": "stdout",
     "output_type": "stream",
     "text": [
      "(array([1. , 1.4, 1.8, 2.2, 2.6, 3. , 3.4, 3.8, 4.2, 4.6]), 0.4) <class 'tuple'>\n"
     ]
    }
   ],
   "source": [
    "d = np.linspace(1,5,num=10,endpoint=False,retstep=True)\n",
    "print(d,type(d))"
   ]
  },
  {
   "cell_type": "code",
   "execution_count": 11,
   "id": "f62c08c0-bbe5-4569-8db5-077745c77110",
   "metadata": {},
   "outputs": [
    {
     "name": "stdout",
     "output_type": "stream",
     "text": [
      "[1.         1.44444444 1.88888889 2.33333333 2.77777778 3.22222222\n",
      " 3.66666667 4.11111111 4.55555556 5.        ] <class 'numpy.ndarray'>\n"
     ]
    }
   ],
   "source": [
    "e = np.linspace(1,5,num=10)\n",
    "print(e,type(e))"
   ]
  },
  {
   "cell_type": "code",
   "execution_count": 12,
   "id": "f7e4e8a9-866c-4946-b2b7-9e9fae5a7f5e",
   "metadata": {},
   "outputs": [
    {
     "name": "stdout",
     "output_type": "stream",
     "text": [
      "[1.         1.08163265 1.16326531 1.24489796 1.32653061 1.40816327\n",
      " 1.48979592 1.57142857 1.65306122 1.73469388 1.81632653 1.89795918\n",
      " 1.97959184 2.06122449 2.14285714 2.2244898  2.30612245 2.3877551\n",
      " 2.46938776 2.55102041 2.63265306 2.71428571 2.79591837 2.87755102\n",
      " 2.95918367 3.04081633 3.12244898 3.20408163 3.28571429 3.36734694\n",
      " 3.44897959 3.53061224 3.6122449  3.69387755 3.7755102  3.85714286\n",
      " 3.93877551 4.02040816 4.10204082 4.18367347 4.26530612 4.34693878\n",
      " 4.42857143 4.51020408 4.59183673 4.67346939 4.75510204 4.83673469\n",
      " 4.91836735 5.        ] <class 'numpy.ndarray'>\n"
     ]
    }
   ],
   "source": [
    "f = np.linspace(1,5)\n",
    "print(f,type(f))"
   ]
  },
  {
   "cell_type": "code",
   "execution_count": 13,
   "id": "67ccf561-efc7-45cd-94c5-8e794e793300",
   "metadata": {},
   "outputs": [
    {
     "name": "stdout",
     "output_type": "stream",
     "text": [
      "[[1.         1.08163265 1.16326531 1.24489796 1.32653061]\n",
      " [1.40816327 1.48979592 1.57142857 1.65306122 1.73469388]\n",
      " [1.81632653 1.89795918 1.97959184 2.06122449 2.14285714]\n",
      " [2.2244898  2.30612245 2.3877551  2.46938776 2.55102041]\n",
      " [2.63265306 2.71428571 2.79591837 2.87755102 2.95918367]\n",
      " [3.04081633 3.12244898 3.20408163 3.28571429 3.36734694]\n",
      " [3.44897959 3.53061224 3.6122449  3.69387755 3.7755102 ]\n",
      " [3.85714286 3.93877551 4.02040816 4.10204082 4.18367347]\n",
      " [4.26530612 4.34693878 4.42857143 4.51020408 4.59183673]\n",
      " [4.67346939 4.75510204 4.83673469 4.91836735 5.        ]]\n"
     ]
    }
   ],
   "source": [
    "z = f.reshape(10,5)\n",
    "print(z)"
   ]
  },
  {
   "cell_type": "code",
   "execution_count": 19,
   "id": "634dc1a1-a139-4327-81d1-441e0f6fb0ea",
   "metadata": {},
   "outputs": [
    {
     "ename": "ValueError",
     "evalue": "setting an array element with a sequence. The requested array has an inhomogeneous shape after 1 dimensions. The detected shape was (2,) + inhomogeneous part.",
     "output_type": "error",
     "traceback": [
      "\u001b[1;31m---------------------------------------------------------------------------\u001b[0m",
      "\u001b[1;31mValueError\u001b[0m                                Traceback (most recent call last)",
      "Cell \u001b[1;32mIn[19], line 1\u001b[0m\n\u001b[1;32m----> 1\u001b[0m y \u001b[38;5;241m=\u001b[39m \u001b[43mnp\u001b[49m\u001b[38;5;241;43m.\u001b[39;49m\u001b[43marray\u001b[49m\u001b[43m(\u001b[49m\u001b[43md\u001b[49m\u001b[43m)\u001b[49m\n\u001b[0;32m      2\u001b[0m \u001b[38;5;28mprint\u001b[39m(y,\u001b[38;5;28mtype\u001b[39m(y))\n",
      "\u001b[1;31mValueError\u001b[0m: setting an array element with a sequence. The requested array has an inhomogeneous shape after 1 dimensions. The detected shape was (2,) + inhomogeneous part."
     ]
    }
   ],
   "source": [
    "y = np.array(d).reshape(2,5)\n",
    "print(y,type(y))"
   ]
  },
  {
   "cell_type": "code",
   "execution_count": null,
   "id": "bc8d9249-63cc-49be-818e-b7d2f8ebfaa4",
   "metadata": {},
   "outputs": [],
   "source": []
  },
  {
   "cell_type": "code",
   "execution_count": null,
   "id": "f18bd71d-a46b-45de-9ead-bf88b31cb1b9",
   "metadata": {},
   "outputs": [],
   "source": []
  }
 ],
 "metadata": {
  "kernelspec": {
   "display_name": "Python 3 (ipykernel)",
   "language": "python",
   "name": "python3"
  },
  "language_info": {
   "codemirror_mode": {
    "name": "ipython",
    "version": 3
   },
   "file_extension": ".py",
   "mimetype": "text/x-python",
   "name": "python",
   "nbconvert_exporter": "python",
   "pygments_lexer": "ipython3",
   "version": "3.9.19"
  }
 },
 "nbformat": 4,
 "nbformat_minor": 5
}
