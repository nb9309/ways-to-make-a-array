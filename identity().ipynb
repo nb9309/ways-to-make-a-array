{
 "cells": [
  {
   "cell_type": "code",
   "execution_count": 2,
   "id": "05b31aca-0aa0-4ac6-9dd3-7146a4e9e866",
   "metadata": {},
   "outputs": [
    {
     "name": "stdout",
     "output_type": "stream",
     "text": [
      "[[1. 0. 0.]\n",
      " [0. 1. 0.]\n",
      " [0. 0. 1.]] <class 'numpy.ndarray'>\n",
      "dtype of a =  float64\n",
      "shape of a =  (3, 3)\n",
      "size of a =  9\n",
      "dim of a =  2\n"
     ]
    }
   ],
   "source": [
    "import numpy as np\n",
    "a = np.identity(3)\n",
    "print(a,type(a))\n",
    "print('dtype of a = ',a.dtype)\n",
    "print('shape of a = ',a.shape)\n",
    "print('size of a = ',a.size)\n",
    "print('dim of a = ',a.ndim)"
   ]
  },
  {
   "cell_type": "code",
   "execution_count": 5,
   "id": "18545621-3cab-4d2d-b40e-bc8b175b0859",
   "metadata": {},
   "outputs": [
    {
     "name": "stdout",
     "output_type": "stream",
     "text": [
      "[[1 0]\n",
      " [0 1]] <class 'numpy.ndarray'>\n",
      "dtype of a =  int32\n",
      "shape of a =  (2, 2)\n",
      "size of a =  4\n",
      "dim of a =  2\n"
     ]
    }
   ],
   "source": [
    "b = np.identity(2,dtype=int)\n",
    "print(b,type(b))\n",
    "print('dtype of a = ',b.dtype)\n",
    "print('shape of a = ',b.shape)\n",
    "print('size of a = ',b.size)\n",
    "print('dim of a = ',b.ndim)"
   ]
  },
  {
   "cell_type": "code",
   "execution_count": 10,
   "id": "b61502c1-0155-479f-bc8e-0a70a3606fde",
   "metadata": {},
   "outputs": [
    {
     "name": "stdout",
     "output_type": "stream",
     "text": [
      "[[1.]] <class 'numpy.ndarray'>\n",
      "dtype of a =  float64\n",
      "shape of a =  (1, 1)\n",
      "size of a =  1\n",
      "dim of a =  2\n"
     ]
    }
   ],
   "source": [
    "c = np.identity(1)\n",
    "print(c,type(c))\n",
    "print('dtype of a = ',c.dtype)\n",
    "print('shape of a = ',c.shape)\n",
    "print('size of a = ',c.size)\n",
    "print('dim of a = ',c.ndim)"
   ]
  },
  {
   "cell_type": "code",
   "execution_count": 13,
   "id": "d67d8149-ab9a-446d-b9b3-74c3df34492e",
   "metadata": {},
   "outputs": [
    {
     "ename": "TypeError",
     "evalue": "identity() got an unexpected keyword argument 'm'",
     "output_type": "error",
     "traceback": [
      "\u001b[1;31m---------------------------------------------------------------------------\u001b[0m",
      "\u001b[1;31mTypeError\u001b[0m                                 Traceback (most recent call last)",
      "Cell \u001b[1;32mIn[13], line 1\u001b[0m\n\u001b[1;32m----> 1\u001b[0m d \u001b[38;5;241m=\u001b[39m \u001b[43mnp\u001b[49m\u001b[38;5;241;43m.\u001b[39;49m\u001b[43midentity\u001b[49m\u001b[43m(\u001b[49m\u001b[38;5;241;43m2\u001b[39;49m\u001b[43m,\u001b[49m\u001b[43mm\u001b[49m\u001b[38;5;241;43m=\u001b[39;49m\u001b[38;5;241;43m3\u001b[39;49m\u001b[43m,\u001b[49m\u001b[43mdtype\u001b[49m\u001b[38;5;241;43m=\u001b[39;49m\u001b[38;5;28;43mint\u001b[39;49m\u001b[43m)\u001b[49m\n\u001b[0;32m      2\u001b[0m \u001b[38;5;28mprint\u001b[39m(d,\u001b[38;5;28mtype\u001b[39m(d))\n",
      "\u001b[1;31mTypeError\u001b[0m: identity() got an unexpected keyword argument 'm'"
     ]
    }
   ],
   "source": [
    "d = np.identity(2,dtype=int)\n",
    "print(d,type(d))"
   ]
  },
  {
   "cell_type": "code",
   "execution_count": null,
   "id": "f16e072d-b114-44e5-848c-fb2dc6a003ae",
   "metadata": {},
   "outputs": [],
   "source": []
  }
 ],
 "metadata": {
  "kernelspec": {
   "display_name": "Python 3 (ipykernel)",
   "language": "python",
   "name": "python3"
  },
  "language_info": {
   "codemirror_mode": {
    "name": "ipython",
    "version": 3
   },
   "file_extension": ".py",
   "mimetype": "text/x-python",
   "name": "python",
   "nbconvert_exporter": "python",
   "pygments_lexer": "ipython3",
   "version": "3.9.19"
  }
 },
 "nbformat": 4,
 "nbformat_minor": 5
}
