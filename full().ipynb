{
 "cells": [
  {
   "cell_type": "code",
   "execution_count": 1,
   "id": "3afee82d-fad2-48d8-b81e-a4ebcb0e0070",
   "metadata": {},
   "outputs": [
    {
     "name": "stdout",
     "output_type": "stream",
     "text": [
      "[4 4 4 4 4 4] <class 'numpy.ndarray'>\n",
      "dtype of a = int32\n",
      "shape of a = (6,)\n",
      "dim of a = 1\n",
      "size of a = 6\n"
     ]
    }
   ],
   "source": [
    "import numpy as np\n",
    "a = np.full(6,4)\n",
    "print(a,type(a))\n",
    "print('dtype of a =',a.dtype)\n",
    "print('shape of a =',a.shape)\n",
    "print('dim of a =',a.ndim)\n",
    "print('size of a =',a.size)"
   ]
  },
  {
   "cell_type": "code",
   "execution_count": 2,
   "id": "228109a4-f6c9-4f02-b177-20c35e416582",
   "metadata": {},
   "outputs": [
    {
     "name": "stdout",
     "output_type": "stream",
     "text": [
      "[[6 6 6]\n",
      " [6 6 6]\n",
      " [6 6 6]] <class 'numpy.ndarray'>\n",
      "dtype of a = int32\n",
      "shape of a = (3, 3)\n",
      "dim of a = 2\n",
      "size of a = 9\n"
     ]
    }
   ],
   "source": [
    "b = np.full((3,3),6)\n",
    "print(b,type(b))\n",
    "print('dtype of a =',b.dtype)\n",
    "print('shape of a =',b.shape)\n",
    "print('dim of a =',b.ndim)\n",
    "print('size of a =',b.size)"
   ]
  },
  {
   "cell_type": "code",
   "execution_count": 3,
   "id": "74374bb7-5990-4d0b-8f72-7fa62d5e94fd",
   "metadata": {},
   "outputs": [
    {
     "name": "stdout",
     "output_type": "stream",
     "text": [
      "[[[8 8 8]\n",
      "  [8 8 8]\n",
      "  [8 8 8]]\n",
      "\n",
      " [[8 8 8]\n",
      "  [8 8 8]\n",
      "  [8 8 8]]] <class 'numpy.ndarray'>\n",
      "dtype of a = int32\n",
      "shape of a = (2, 3, 3)\n",
      "dim of a = 3\n",
      "size of a = 18\n"
     ]
    }
   ],
   "source": [
    "c = np.full((2,3,3),8)\n",
    "print(c,type(c))\n",
    "print('dtype of a =',c.dtype)\n",
    "print('shape of a =',c.shape)\n",
    "print('dim of a =',c.ndim)\n",
    "print('size of a =',c.size)"
   ]
  },
  {
   "cell_type": "code",
   "execution_count": null,
   "id": "05b7cf45-d0da-41e5-a3ba-f49225213b5a",
   "metadata": {},
   "outputs": [],
   "source": []
  }
 ],
 "metadata": {
  "kernelspec": {
   "display_name": "Python 3 (ipykernel)",
   "language": "python",
   "name": "python3"
  },
  "language_info": {
   "codemirror_mode": {
    "name": "ipython",
    "version": 3
   },
   "file_extension": ".py",
   "mimetype": "text/x-python",
   "name": "python",
   "nbconvert_exporter": "python",
   "pygments_lexer": "ipython3",
   "version": "3.9.19"
  }
 },
 "nbformat": 4,
 "nbformat_minor": 5
}
