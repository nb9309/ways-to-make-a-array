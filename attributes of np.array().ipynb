{
 "cells": [
  {
   "cell_type": "code",
   "execution_count": 2,
   "id": "1db78b7d-2fc7-4d12-b9a0-611daa8fdba3",
   "metadata": {},
   "outputs": [
    {
     "name": "stdout",
     "output_type": "stream",
     "text": [
      "4 <class 'int'>\n"
     ]
    }
   ],
   "source": [
    "a = 4\n",
    "print(a,type(a))"
   ]
  },
  {
   "cell_type": "code",
   "execution_count": 4,
   "id": "80e27bf9-c8d9-4d34-907b-638f96d0d7da",
   "metadata": {},
   "outputs": [
    {
     "name": "stdout",
     "output_type": "stream",
     "text": [
      "True <class 'numpy.ndarray'>\n"
     ]
    }
   ],
   "source": [
    "import numpy as np\n",
    "nda = np.array(a,dtype=bool)\n",
    "print(nda,type(nda))"
   ]
  },
  {
   "cell_type": "code",
   "execution_count": 6,
   "id": "7342cd5f-789e-46b3-81d2-d4a1c179681e",
   "metadata": {},
   "outputs": [
    {
     "name": "stdout",
     "output_type": "stream",
     "text": [
      "dimention of array =  0\n",
      "shape of array =  ()\n",
      "size of array =  1\n",
      "type of array =  bool\n"
     ]
    }
   ],
   "source": [
    "print('dimention of array = ',nda.ndim)\n",
    "print('shape of array = ',nda.shape)\n",
    "print('size of array = ',nda.size)\n",
    "print('type of array = ',nda.dtype)"
   ]
  },
  {
   "cell_type": "code",
   "execution_count": 7,
   "id": "7586bfc2-4d29-4406-bd75-d13fbf1f51ac",
   "metadata": {},
   "outputs": [
    {
     "name": "stdout",
     "output_type": "stream",
     "text": [
      "hii how are you <class 'str'>\n"
     ]
    }
   ],
   "source": [
    "a = 'hii how are you'\n",
    "print(a,type(a))"
   ]
  },
  {
   "cell_type": "code",
   "execution_count": 9,
   "id": "97a685c7-8b36-4b97-9cf4-ad9cf84f8eb0",
   "metadata": {},
   "outputs": [
    {
     "name": "stdout",
     "output_type": "stream",
     "text": [
      "hii how are you <class 'numpy.ndarray'>\n"
     ]
    }
   ],
   "source": [
    "nda = np.array(a,dtype=object)\n",
    "print(nda,type(nda))"
   ]
  },
  {
   "cell_type": "code",
   "execution_count": 11,
   "id": "f5c36c29-2da6-4816-8827-15df70e82935",
   "metadata": {},
   "outputs": [
    {
     "name": "stdout",
     "output_type": "stream",
     "text": [
      "hii how are you <class 'numpy.ndarray'>\n",
      "dimention of array =  0\n",
      "shape of array =  ()\n",
      "size of array =  1\n",
      "type of array =  object\n"
     ]
    }
   ],
   "source": [
    "nda = np.array(a,dtype=object)\n",
    "print(nda,type(nda))\n",
    "print('dimention of array = ',nda.ndim)\n",
    "print('shape of array = ',nda.shape)\n",
    "print('size of array = ',nda.size)\n",
    "print('type of array = ',nda.dtype)"
   ]
  },
  {
   "cell_type": "code",
   "execution_count": 12,
   "id": "d6619ed3-8b8b-47c8-abe2-f6e65e329149",
   "metadata": {},
   "outputs": [
    {
     "name": "stdout",
     "output_type": "stream",
     "text": [
      "range(1, 10) <class 'range'>\n",
      "--------------------------------------------------\n",
      "[1 2 3 4 5 6 7 8 9] <class 'numpy.ndarray'>\n",
      "dimention of array =  1\n",
      "shape of array =  (9,)\n",
      "size of array =  9\n",
      "type of array =  object\n"
     ]
    }
   ],
   "source": [
    "a = range(1,10)\n",
    "print(a,type(a))\n",
    "print('-'*50)\n",
    "nda = np.array(a,dtype=object)\n",
    "print(nda,type(nda))\n",
    "print('dimention of array = ',nda.ndim)\n",
    "print('shape of array = ',nda.shape)\n",
    "print('size of array = ',nda.size)\n",
    "print('type of array = ',nda.dtype)"
   ]
  },
  {
   "cell_type": "code",
   "execution_count": 13,
   "id": "9ecaf0c4-dc7e-4f8a-a7bb-541c3f0601f8",
   "metadata": {},
   "outputs": [
    {
     "data": {
      "text/plain": [
       "array([[1, 2, 3],\n",
       "       [4, 5, 6],\n",
       "       [7, 8, 9]], dtype=object)"
      ]
     },
     "execution_count": 13,
     "metadata": {},
     "output_type": "execute_result"
    }
   ],
   "source": [
    "nda.reshape(3,3)"
   ]
  },
  {
   "cell_type": "code",
   "execution_count": 15,
   "id": "5373629f-68b6-4ed2-b83d-7f3d3152030b",
   "metadata": {},
   "outputs": [
    {
     "data": {
      "text/plain": [
       "array([1, 2, 3, 4, 5, 6, 7, 8, 9], dtype=object)"
      ]
     },
     "execution_count": 15,
     "metadata": {},
     "output_type": "execute_result"
    }
   ],
   "source": [
    "nda.shape=(9,)\n",
    "nda"
   ]
  },
  {
   "cell_type": "code",
   "execution_count": 17,
   "id": "092e3be4-e503-4b1d-b574-a1f6709fb41f",
   "metadata": {},
   "outputs": [
    {
     "name": "stdout",
     "output_type": "stream",
     "text": [
      "[[1 2 3]\n",
      " [4 5 6]\n",
      " [7 8 9]]\n"
     ]
    }
   ],
   "source": [
    "nda.shape=(3,3)\n",
    "print(nda)"
   ]
  },
  {
   "cell_type": "code",
   "execution_count": null,
   "id": "ea43fc37-ac1b-4654-b5d4-fda0a572c5fa",
   "metadata": {},
   "outputs": [],
   "source": []
  }
 ],
 "metadata": {
  "kernelspec": {
   "display_name": "Python 3 (ipykernel)",
   "language": "python",
   "name": "python3"
  },
  "language_info": {
   "codemirror_mode": {
    "name": "ipython",
    "version": 3
   },
   "file_extension": ".py",
   "mimetype": "text/x-python",
   "name": "python",
   "nbconvert_exporter": "python",
   "pygments_lexer": "ipython3",
   "version": "3.9.19"
  }
 },
 "nbformat": 4,
 "nbformat_minor": 5
}
