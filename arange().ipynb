{
 "cells": [
  {
   "cell_type": "code",
   "execution_count": 16,
   "id": "b725659a-7a73-474b-a4b2-98d1f4abeff5",
   "metadata": {},
   "outputs": [
    {
     "name": "stdout",
     "output_type": "stream",
     "text": [
      "[0. 1. 2. 3. 4. 5. 6.] <class 'numpy.ndarray'>\n",
      "dim of a =  1\n",
      "shape of a =  (7,)\n",
      "size of a =  7\n",
      "dtype of a =  float64\n"
     ]
    }
   ],
   "source": [
    "import numpy as np\n",
    "a = np.arange(7,dtype=float)\n",
    "print(a,type(a))\n",
    "print('dim of a = ',a.ndim)\n",
    "print('shape of a = ',a.shape)\n",
    "print('size of a = ',a.size)\n",
    "print('dtype of a = ',a.dtype)"
   ]
  },
  {
   "cell_type": "code",
   "execution_count": 4,
   "id": "154ea884-aabc-45af-86f1-d08e52d0497b",
   "metadata": {},
   "outputs": [
    {
     "name": "stdout",
     "output_type": "stream",
     "text": [
      "[1 2 3 4 5 6 7 8 9] <class 'numpy.ndarray'>\n",
      "dim of a =  1\n",
      "shape of a =  (9,)\n",
      "size of a =  9\n",
      "dtype of a =  int32\n"
     ]
    }
   ],
   "source": [
    "b = np.arange(1,10)\n",
    "print(b,type(b))\n",
    "print('dim of a = ',b.ndim)\n",
    "print('shape of a = ',b.shape)\n",
    "print('size of a = ',b.size)\n",
    "print('dtype of a = ',b.dtype)"
   ]
  },
  {
   "cell_type": "code",
   "execution_count": 5,
   "id": "bfb49c23-38e6-444c-996d-39cdc32e9b39",
   "metadata": {},
   "outputs": [
    {
     "name": "stdout",
     "output_type": "stream",
     "text": [
      "[1 4 7] <class 'numpy.ndarray'>\n",
      "dim of a =  1\n",
      "shape of a =  (3,)\n",
      "size of a =  3\n",
      "dtype of a =  int32\n"
     ]
    }
   ],
   "source": [
    "c = np.arange(1,10,3)\n",
    "print(c,type(c))\n",
    "print('dim of a = ',c.ndim)\n",
    "print('shape of a = ',c.shape)\n",
    "print('size of a = ',c.size)\n",
    "print('dtype of a = ',c.dtype)"
   ]
  },
  {
   "cell_type": "code",
   "execution_count": 7,
   "id": "b09cc8a4-cecf-4edd-8f85-ec718b47f84e",
   "metadata": {},
   "outputs": [
    {
     "name": "stdout",
     "output_type": "stream",
     "text": [
      "[10  8  6  4  2] <class 'numpy.ndarray'>\n",
      "dim of a =  1\n",
      "shape of a =  (5,)\n",
      "size of a =  5\n",
      "dtype of a =  int32\n"
     ]
    }
   ],
   "source": [
    "d = np.arange(10,1,-2)\n",
    "print(d,type(d))\n",
    "print('dim of a = ',d.ndim)\n",
    "print('shape of a = ',d.shape)\n",
    "print('size of a = ',d.size)\n",
    "print('dtype of a = ',d.dtype)"
   ]
  },
  {
   "cell_type": "code",
   "execution_count": 14,
   "id": "44b3b153-dae0-4325-98e7-2a486d36f4d6",
   "metadata": {},
   "outputs": [
    {
     "name": "stdout",
     "output_type": "stream",
     "text": [
      "[[[ 0  1  2]\n",
      "  [ 3  4  5]\n",
      "  [ 6  7  8]]\n",
      "\n",
      " [[ 9 10 11]\n",
      "  [12 13 14]\n",
      "  [15 16 17]]] <class 'numpy.ndarray'>\n",
      "dim of a =  3\n",
      "shape of a =  (2, 3, 3)\n",
      "size of a =  18\n",
      "dtype of a =  int32\n"
     ]
    }
   ],
   "source": [
    "e = np.arange(2*3*3).reshape(2,3,3)\n",
    "print(e,type(e))\n",
    "print('dim of a = ',e.ndim)\n",
    "print('shape of a = ',e.shape)\n",
    "print('size of a = ',e.size)\n",
    "print('dtype of a = ',e.dtype)"
   ]
  },
  {
   "cell_type": "code",
   "execution_count": 15,
   "id": "5b1448fc-444c-43c3-87e1-1c9c54ba08f2",
   "metadata": {},
   "outputs": [
    {
     "name": "stdout",
     "output_type": "stream",
     "text": [
      "[[[ 0  1  2]\n",
      "  [ 3  4  5]\n",
      "  [ 6  7  8]]\n",
      "\n",
      " [[ 9 10 11]\n",
      "  [12 13 14]\n",
      "  [15 16 17]]] <class 'numpy.ndarray'>\n",
      "dim of a =  3\n",
      "shape of a =  (2, 3, 3)\n",
      "size of a =  18\n",
      "dtype of a =  int32\n"
     ]
    }
   ],
   "source": [
    "f = np.arange(18).reshape(2,3,3)\n",
    "print(f,type(f))\n",
    "print('dim of a = ',f.ndim)\n",
    "print('shape of a = ',f.shape)\n",
    "print('size of a = ',f.size)\n",
    "print('dtype of a = ',f.dtype)"
   ]
  },
  {
   "cell_type": "code",
   "execution_count": null,
   "id": "d2e0c1db-1bd8-455d-aad4-3f4cf7df0144",
   "metadata": {},
   "outputs": [],
   "source": []
  }
 ],
 "metadata": {
  "kernelspec": {
   "display_name": "Python 3 (ipykernel)",
   "language": "python",
   "name": "python3"
  },
  "language_info": {
   "codemirror_mode": {
    "name": "ipython",
    "version": 3
   },
   "file_extension": ".py",
   "mimetype": "text/x-python",
   "name": "python",
   "nbconvert_exporter": "python",
   "pygments_lexer": "ipython3",
   "version": "3.9.19"
  }
 },
 "nbformat": 4,
 "nbformat_minor": 5
}
